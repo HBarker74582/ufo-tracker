{
 "cells": [
  {
   "cell_type": "code",
   "execution_count": 2,
   "metadata": {},
   "outputs": [],
   "source": [
    "import pandas as pd\n"
   ]
  },
  {
   "cell_type": "code",
   "execution_count": 7,
   "metadata": {},
   "outputs": [
    {
     "ename": "NameError",
     "evalue": "name 'delimiter' is not defined",
     "output_type": "error",
     "traceback": [
      "\u001b[1;31m---------------------------------------------------------------------------\u001b[0m",
      "\u001b[1;31mNameError\u001b[0m                                 Traceback (most recent call last)",
      "\u001b[1;32m<ipython-input-7-53d2490771d2>\u001b[0m in \u001b[0;36m<module>\u001b[1;34m\u001b[0m\n\u001b[1;32m----> 1\u001b[1;33m \u001b[0malien_data\u001b[0m \u001b[1;33m=\u001b[0m \u001b[0mpd\u001b[0m\u001b[1;33m.\u001b[0m\u001b[0mread_csv\u001b[0m\u001b[1;33m(\u001b[0m\u001b[1;34m\"data/alien_data.csv\"\u001b[0m\u001b[1;33m,\u001b[0m \u001b[0mdelimiter\u001b[0m\u001b[1;33m-\u001b[0m\u001b[1;34m\",\"\u001b[0m\u001b[1;33m)\u001b[0m\u001b[1;33m\u001b[0m\u001b[1;33m\u001b[0m\u001b[0m\n\u001b[0m",
      "\u001b[1;31mNameError\u001b[0m: name 'delimiter' is not defined"
     ]
    }
   ],
   "source": [
    "alien_data = pd.read_csv(\"data/alien_data.csv\", delimiter=\",\")"
   ]
  },
  {
   "cell_type": "code",
   "execution_count": 6,
   "metadata": {},
   "outputs": [
    {
     "data": {
      "text/html": [
       "<div>\n",
       "<style scoped>\n",
       "    .dataframe tbody tr th:only-of-type {\n",
       "        vertical-align: middle;\n",
       "    }\n",
       "\n",
       "    .dataframe tbody tr th {\n",
       "        vertical-align: top;\n",
       "    }\n",
       "\n",
       "    .dataframe thead th {\n",
       "        text-align: right;\n",
       "    }\n",
       "</style>\n",
       "<table border=\"1\" class=\"dataframe\">\n",
       "  <thead>\n",
       "    <tr style=\"text-align: right;\">\n",
       "      <th></th>\n",
       "      <th>,state_long,state_short,city_state,mj_legal,lat,long,sighting_date,short_description</th>\n",
       "    </tr>\n",
       "  </thead>\n",
       "  <tbody>\n",
       "    <tr>\n",
       "      <td>0</td>\n",
       "      <td>0,Washington,WA,Aberdeen WA,Yes,46.9768,-123.8...</td>\n",
       "    </tr>\n",
       "    <tr>\n",
       "      <td>1</td>\n",
       "      <td>1,Texas,TX,Abilene TX,No,32.4543,-99.7384,5/30...</td>\n",
       "    </tr>\n",
       "    <tr>\n",
       "      <td>2</td>\n",
       "      <td>2,Texas,TX,Abilene TX,No,32.4543,-99.7384,7/11...</td>\n",
       "    </tr>\n",
       "    <tr>\n",
       "      <td>3</td>\n",
       "      <td>3,Texas,TX,Abilene TX,No,32.4543,-99.7384,9/16...</td>\n",
       "    </tr>\n",
       "    <tr>\n",
       "      <td>4</td>\n",
       "      <td>4,Texas,TX,Abilene TX,No,32.4543,-99.7384,10/6...</td>\n",
       "    </tr>\n",
       "    <tr>\n",
       "      <td>...</td>\n",
       "      <td>...</td>\n",
       "    </tr>\n",
       "    <tr>\n",
       "      <td>3247</td>\n",
       "      <td>3247,Arizona,AZ,Yuma AZ,Yes,32.599000000000004...</td>\n",
       "    </tr>\n",
       "    <tr>\n",
       "      <td>3248</td>\n",
       "      <td>3248,Michigan,MI,Zeeland MI,Yes,42.8139,-86.01...</td>\n",
       "    </tr>\n",
       "    <tr>\n",
       "      <td>3249</td>\n",
       "      <td>3249,Michigan,MI,Zeeland MI,Yes,42.8139,-86.01...</td>\n",
       "    </tr>\n",
       "    <tr>\n",
       "      <td>3250</td>\n",
       "      <td>3250,Florida,FL,Zephyrhills FL,Yes,28.2404,-82...</td>\n",
       "    </tr>\n",
       "    <tr>\n",
       "      <td>3251</td>\n",
       "      <td>3251,Florida,FL,Zephyrhills FL,Yes,28.2404,-82...</td>\n",
       "    </tr>\n",
       "  </tbody>\n",
       "</table>\n",
       "<p>3252 rows × 1 columns</p>\n",
       "</div>"
      ],
      "text/plain": [
       "     ,state_long,state_short,city_state,mj_legal,lat,long,sighting_date,short_description\n",
       "0     0,Washington,WA,Aberdeen WA,Yes,46.9768,-123.8...                                  \n",
       "1     1,Texas,TX,Abilene TX,No,32.4543,-99.7384,5/30...                                  \n",
       "2     2,Texas,TX,Abilene TX,No,32.4543,-99.7384,7/11...                                  \n",
       "3     3,Texas,TX,Abilene TX,No,32.4543,-99.7384,9/16...                                  \n",
       "4     4,Texas,TX,Abilene TX,No,32.4543,-99.7384,10/6...                                  \n",
       "...                                                 ...                                  \n",
       "3247  3247,Arizona,AZ,Yuma AZ,Yes,32.599000000000004...                                  \n",
       "3248  3248,Michigan,MI,Zeeland MI,Yes,42.8139,-86.01...                                  \n",
       "3249  3249,Michigan,MI,Zeeland MI,Yes,42.8139,-86.01...                                  \n",
       "3250  3250,Florida,FL,Zephyrhills FL,Yes,28.2404,-82...                                  \n",
       "3251  3251,Florida,FL,Zephyrhills FL,Yes,28.2404,-82...                                  \n",
       "\n",
       "[3252 rows x 1 columns]"
      ]
     },
     "execution_count": 6,
     "metadata": {},
     "output_type": "execute_result"
    }
   ],
   "source": [
    "alien_data\n"
   ]
  },
  {
   "cell_type": "code",
   "execution_count": null,
   "metadata": {},
   "outputs": [],
   "source": []
  }
 ],
 "metadata": {
  "kernelspec": {
   "display_name": "Python 3",
   "language": "python",
   "name": "python3"
  },
  "language_info": {
   "codemirror_mode": {
    "name": "ipython",
    "version": 3
   },
   "file_extension": ".py",
   "mimetype": "text/x-python",
   "name": "python",
   "nbconvert_exporter": "python",
   "pygments_lexer": "ipython3",
   "version": "3.7.4"
  }
 },
 "nbformat": 4,
 "nbformat_minor": 2
}
